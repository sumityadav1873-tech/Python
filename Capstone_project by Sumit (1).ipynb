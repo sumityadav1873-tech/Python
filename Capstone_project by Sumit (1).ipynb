{
 "cells": [
  {
   "cell_type": "markdown",
   "id": "75ce641d-4dc2-4156-baae-7d61e763eae2",
   "metadata": {},
   "source": [
    "capstone_project - PYTHON\n",
    "By- [SUMIT YADAV]"
   ]
  },
  {
   "cell_type": "code",
   "execution_count": null,
   "id": "fc1877b1-df56-4631-9d47-d9e10f1eef7d",
   "metadata": {},
   "outputs": [],
   "source": [
    "Performed 10 Task"
   ]
  },
  {
   "cell_type": "code",
   "execution_count": null,
   "id": "d23cb134-b2e3-4aa2-8ee9-8490395ba48e",
   "metadata": {},
   "outputs": [],
   "source": []
  },
  {
   "cell_type": "code",
   "execution_count": 2,
   "id": "7a4ed861-19f3-4329-a385-a66e121e62e4",
   "metadata": {},
   "outputs": [],
   "source": [
    "import pandas as pd\n",
    "import numpy as np"
   ]
  },
  {
   "cell_type": "markdown",
   "id": "d050117f-9245-42ab-8d87-7ca169fdf417",
   "metadata": {},
   "source": [
    "Task-1. Create and Save Employee, Project and Seniority DataFrame"
   ]
  },
  {
   "cell_type": "code",
   "execution_count": null,
   "id": "0b24e4aa-6824-48aa-b64c-d837f4a3573e",
   "metadata": {},
   "outputs": [],
   "source": [
    "employee_data = {\n",
    "    'ID' : ['A001', 'A002', 'A003', 'A004', 'A005'],\n",
    "    'Name': ['John Alter', 'Alice Luxumberg', 'Tom Sabestine', 'Nina Adgra', 'Amy Johny'],\n",
    "    'Gender': ['M', 'F', 'M', 'F', 'F'],\n",
    "    'City': ['Paris', 'London', 'Berlin', 'Newyork', 'Medrid'],\n",
    "    'Age': [25, 27, 29, 31, 30]\n",
    "}\n",
    "employee_df = pd.DataFrame(employee_data)\n",
    "employee_df.to_csv('employee.csv', index=False)"
   ]
  },
  {
   "cell_type": "code",
   "execution_count": 8,
   "id": "e41a3740-6927-4c33-8d09-39b976175ceb",
   "metadata": {},
   "outputs": [],
   "source": [
    "project_data = {\n",
    "    'ID': ['A001', 'A002', 'A003', 'A004', 'A005', 'A002', 'A005', 'A003', 'A001', 'A003', 'A001', 'A004', 'A004', 'A005'],\n",
    "    'Project': ['Project 1', 'Project 2', 'Project 3', 'Project 4', 'Project 5', 'Project 6', 'Project 7', 'Project 8', 'Project 9', 'Project 10', 'Project 11', 'Project 12', 'Project 13', 'Project 14'],\n",
    "    'Cost': [1002000, 2000000, 4500000, 5500000, None, 680000, 400000, 350000, None, 300000, 2000000, 1000000, 3000000, 200000],\n",
    "    'Status': ['Finished', 'Ongoing', 'Finished', 'Ongoing', 'Finished', 'Failed', 'Finished', 'Failed', 'Ongoing', 'Finished', 'Failed', 'Ongoing', 'Finished', 'Finished']\n",
    "}\n",
    "project_df = pd.DataFrame(project_data)\n",
    "project_df.to_csv('project.csv', index=False)"
   ]
  },
  {
   "cell_type": "code",
   "execution_count": 9,
   "id": "20f8f54e-1840-4bfe-9ba5-6305f399c64b",
   "metadata": {},
   "outputs": [],
   "source": [
    "seniority_data = {\n",
    "    'ID': ['A001', 'A002', 'A003', 'A004', 'A005'],\n",
    "    'Designation Level': [2, 2, 3, 2, 3]\n",
    "}\n",
    "seniority_df = pd.DataFrame(seniority_data)\n",
    "seniority_df.to_csv('seniority.csv', index=False)"
   ]
  },
  {
   "cell_type": "code",
   "execution_count": null,
   "id": "d0a75c35-c6b0-499f-bf15-71c414c7f81d",
   "metadata": {},
   "outputs": [],
   "source": []
  },
  {
   "cell_type": "markdown",
   "id": "0d865938-1240-4267-9b74-76d87ba0e7bd",
   "metadata": {},
   "source": [
    "Task-2. Fill Missing values in 'Cost' using Running Average"
   ]
  },
  {
   "cell_type": "code",
   "execution_count": 13,
   "id": "1e3fbf3e-74eb-45fb-89c0-7d14ede74b2e",
   "metadata": {
    "scrolled": true
   },
   "outputs": [
    {
     "name": "stdout",
     "output_type": "stream",
     "text": [
      "      ID     Project          Cost    Status\n",
      "0   A001   Project 1  1.002000e+06  Finished\n",
      "1   A002   Project 2  2.000000e+06   Ongoing\n",
      "2   A003   Project 3  4.500000e+06  Finished\n",
      "3   A004   Project 4  5.500000e+06   Ongoing\n",
      "4   A005   Project 5  3.250500e+06  Finished\n",
      "5   A002   Project 6  6.800000e+05    Failed\n",
      "6   A005   Project 7  4.000000e+05  Finished\n",
      "7   A003   Project 8  3.500000e+05    Failed\n",
      "8   A001   Project 9  2.061714e+06   Ongoing\n",
      "9   A003  Project 10  3.000000e+05  Finished\n",
      "10  A001  Project 11  2.000000e+06    Failed\n",
      "11  A004  Project 12  1.000000e+06   Ongoing\n",
      "12  A004  Project 13  3.000000e+06  Finished\n",
      "13  A005  Project 14  2.000000e+05  Finished\n",
      "      ID     Project          Cost    Status\n",
      "0   A001   Project 1  1.002000e+06  Finished\n",
      "1   A002   Project 2  2.000000e+06   Ongoing\n",
      "2   A003   Project 3  4.500000e+06  Finished\n",
      "3   A004   Project 4  5.500000e+06   Ongoing\n",
      "4   A005   Project 5  3.250500e+06  Finished\n",
      "5   A002   Project 6  6.800000e+05    Failed\n",
      "6   A005   Project 7  4.000000e+05  Finished\n",
      "7   A003   Project 8  3.500000e+05    Failed\n",
      "8   A001   Project 9  2.061714e+06   Ongoing\n",
      "9   A003  Project 10  3.000000e+05  Finished\n",
      "10  A001  Project 11  2.000000e+06    Failed\n",
      "11  A004  Project 12  1.000000e+06   Ongoing\n",
      "12  A004  Project 13  3.000000e+06  Finished\n",
      "13  A005  Project 14  2.000000e+05  Finished\n"
     ]
    }
   ],
   "source": [
    "import pandas as pd\n",
    "import numpy as np\n",
    "\n",
    "project_df = pd.read_csv('project.csv')\n",
    "costs = project_df['Cost'].tolist()\n",
    "valid_costs = []\n",
    "for i in range(len(costs)):\n",
    "    if pd.isna(costs[i]):\n",
    "        if valid_costs:\n",
    "            avg = sum(valid_costs) / len(valid_costs)\n",
    "            costs[i] = avg\n",
    "        else:\n",
    "            costs[i] = 0\n",
    "        else\n",
    "        valid_costs.append(costs[i])\n",
    "    project_df['Cost'] = costs\n",
    "project_df.to_csv('Project_Filled.csv', index=False)\n",
    "print(project_df)"
   ]
  },
  {
   "cell_type": "markdown",
   "id": "76afcb2a-5ed2-464d-a72a-6821d2e8ffd2",
   "metadata": {},
   "source": [
    "Task-3. Split the 'Name' Column into 'First Name' and 'Last Name'"
   ]
  },
  {
   "cell_type": "code",
   "execution_count": 19,
   "id": "120cd299-0b4a-4449-8b91-32d4049be35c",
   "metadata": {},
   "outputs": [
    {
     "name": "stdout",
     "output_type": "stream",
     "text": [
      "     ID Gender     City  Age First Name  Last Name\n",
      "0  A001      M    Paris   25       John      Alter\n",
      "1  A002      F   London   27      Alice  Luxumberg\n",
      "2  A003      M   Berlin   29        Tom  Sabestine\n",
      "3  A004      F  Newyork   31       Nina      Adgra\n",
      "4  A005      F   Medrid   30        Amy      Johny\n"
     ]
    }
   ],
   "source": [
    "import pandas as pd\n",
    "\n",
    "employee_df = pd.read_csv('Employee.csv')\n",
    "employee_df[['First Name', 'Last Name']] = employee_df['Name'].str.split(' ', n=1, expand=True)\n",
    "employee_df.drop(columns=['Name'], inplace=True)\n",
    "employee_df.to_csv('Employee_Updated.csv', index=False)\n",
    "print(employee_df)"
   ]
  },
  {
   "cell_type": "markdown",
   "id": "abfa8b8b-257f-4681-b661-ce71bc119477",
   "metadata": {},
   "source": [
    "Task-4. Join Employee,Project and Seniority DataFrame into One Final DataFrame"
   ]
  },
  {
   "cell_type": "code",
   "execution_count": 20,
   "id": "71828532-f0f9-4942-b2ba-ee2b0c093a4e",
   "metadata": {},
   "outputs": [
    {
     "name": "stdout",
     "output_type": "stream",
     "text": [
      "     ID Gender     City  Age First Name  Last Name  Designation Level  \\\n",
      "0  A001      M    Paris   25       John      Alter                  2   \n",
      "1  A001      M    Paris   25       John      Alter                  2   \n",
      "2  A001      M    Paris   25       John      Alter                  2   \n",
      "3  A002      F   London   27      Alice  Luxumberg                  2   \n",
      "4  A002      F   London   27      Alice  Luxumberg                  2   \n",
      "5  A003      M   Berlin   29        Tom  Sabestine                  3   \n",
      "6  A003      M   Berlin   29        Tom  Sabestine                  3   \n",
      "7  A003      M   Berlin   29        Tom  Sabestine                  3   \n",
      "8  A004      F  Newyork   31       Nina      Adgra                  2   \n",
      "9  A004      F  Newyork   31       Nina      Adgra                  2   \n",
      "\n",
      "      Project          Cost    Status  \n",
      "0   Project 1  1.002000e+06  Finished  \n",
      "1   Project 9  2.061714e+06   Ongoing  \n",
      "2  Project 11  2.000000e+06    Failed  \n",
      "3   Project 2  2.000000e+06   Ongoing  \n",
      "4   Project 6  6.800000e+05    Failed  \n",
      "5   Project 3  4.500000e+06  Finished  \n",
      "6   Project 8  3.500000e+05    Failed  \n",
      "7  Project 10  3.000000e+05  Finished  \n",
      "8   Project 4  5.500000e+06   Ongoing  \n",
      "9  Project 12  1.000000e+06   Ongoing  \n"
     ]
    }
   ],
   "source": [
    "import pandas as pd\n",
    "\n",
    "employee_df = pd.read_csv('Employee_updated.csv')\n",
    "seniority_df = pd.read_csv('Seniority.csv')  \n",
    "project_df = pd.read_csv('Project_Filled.csv') \n",
    "emp_seniority_df = pd.merge(employee_df, seniority_df, on='ID', how='inner')\n",
    "final_df = pd.merge(emp_seniority_df, project_df, on='ID', how='inner')\n",
    "final_df.to_csv('Final.csv', index=False)\n",
    "print(final_df.head(10))"
   ]
  },
  {
   "cell_type": "markdown",
   "id": "e18118b7-eba5-4da0-b71a-06640432c205",
   "metadata": {},
   "source": [
    "Task-5. Add 5% Bonus for Projects with Status 'Finished'"
   ]
  },
  {
   "cell_type": "code",
   "execution_count": 21,
   "id": "27cdee96-df74-410c-9fb2-adad7912239e",
   "metadata": {},
   "outputs": [
    {
     "name": "stdout",
     "output_type": "stream",
     "text": [
      "     ID     Project          Cost    Status     Bonus\n",
      "0  A001   Project 1  1.002000e+06  Finished   50100.0\n",
      "1  A001   Project 9  2.061714e+06   Ongoing       0.0\n",
      "2  A001  Project 11  2.000000e+06    Failed       0.0\n",
      "3  A002   Project 2  2.000000e+06   Ongoing       0.0\n",
      "4  A002   Project 6  6.800000e+05    Failed       0.0\n",
      "5  A003   Project 3  4.500000e+06  Finished  225000.0\n",
      "6  A003   Project 8  3.500000e+05    Failed       0.0\n",
      "7  A003  Project 10  3.000000e+05  Finished   15000.0\n",
      "8  A004   Project 4  5.500000e+06   Ongoing       0.0\n",
      "9  A004  Project 12  1.000000e+06   Ongoing       0.0\n"
     ]
    }
   ],
   "source": [
    "import pandas as pd\n",
    "\n",
    "final_df = pd.read_csv('Final.csv')\n",
    "final_df['Bonus'] = final_df.apply(\n",
    "    lambda row: 0.05 * row['Cost'] if row['Status'].lower() == 'finished' else 0, axis=1\n",
    ")\n",
    "final_df.to_csv('Final_with_Bonus.csv', index=False)\n",
    "print(final_df[['ID', 'Project', 'Cost', 'Status', 'Bonus']].head(10))"
   ]
  },
  {
   "cell_type": "markdown",
   "id": "2e240e24-8f5c-4063-b0be-93433d513778",
   "metadata": {},
   "source": [
    "Task-6. Demote Designation for 'Failed' Projects"
   ]
  },
  {
   "cell_type": "code",
   "execution_count": 22,
   "id": "e557dc0a-758e-4886-b246-41d896277394",
   "metadata": {},
   "outputs": [
    {
     "name": "stdout",
     "output_type": "stream",
     "text": [
      "     ID First Name  Designation Level    Status\n",
      "0  A001       John                  1  Finished\n",
      "1  A001       John                  1   Ongoing\n",
      "2  A001       John                  1    Failed\n",
      "3  A002      Alice                  1   Ongoing\n",
      "4  A002      Alice                  1    Failed\n",
      "5  A003        Tom                  2  Finished\n",
      "6  A003        Tom                  2    Failed\n",
      "7  A003        Tom                  2  Finished\n",
      "8  A004       Nina                  2   Ongoing\n",
      "9  A004       Nina                  2   Ongoing\n"
     ]
    }
   ],
   "source": [
    "import pandas as pd\n",
    "\n",
    "final_df = pd.read_csv('Final_with_Bonus.csv')\n",
    "failed_counts = final_df[final_df['Status'].str.lower() == 'failed'].groupby('ID').size()\n",
    "latest_designation = final_df[['ID', 'Designation Level']].drop_duplicates()\n",
    "latest_designation['Designation Level'] = latest_designation.apply(\n",
    "    lambda row: row['Designation Level'] - failed_counts.get(row['ID'], 0),\n",
    "    axis=1\n",
    ")\n",
    "latest_designation = latest_designation[latest_designation['Designation Level'] <= 4]\n",
    "final_df = final_df.drop('Designation Level', axis=1) \n",
    "final_df = final_df.merge(latest_designation, on='ID', how='inner') \n",
    "final_df.to_csv('Final_Task6.csv', index=False)\n",
    "print(final_df[['ID', 'First Name', 'Designation Level', 'Status']].head(10))"
   ]
  },
  {
   "cell_type": "markdown",
   "id": "9742ddc4-d99a-4ca4-a091-cd919fd25f51",
   "metadata": {},
   "source": [
    "Task-7. Add 'Mr.' and 'Mrs.' as Prefix to First Name and Drop Gender Column"
   ]
  },
  {
   "cell_type": "code",
   "execution_count": 24,
   "id": "4a319119-c6a1-4c9a-b3c9-02e387a66b7a",
   "metadata": {},
   "outputs": [
    {
     "name": "stdout",
     "output_type": "stream",
     "text": [
      "     ID  First Name  Last Name\n",
      "0  A001    Mr. John      Alter\n",
      "1  A001    Mr. John      Alter\n",
      "2  A001    Mr. John      Alter\n",
      "3  A002  Mrs. Alice  Luxumberg\n",
      "4  A002  Mrs. Alice  Luxumberg\n",
      "5  A003     Mr. Tom  Sabestine\n",
      "6  A003     Mr. Tom  Sabestine\n",
      "7  A003     Mr. Tom  Sabestine\n",
      "8  A004   Mrs. Nina      Adgra\n",
      "9  A004   Mrs. Nina      Adgra\n"
     ]
    }
   ],
   "source": [
    "import pandas as pd\n",
    "final_df = pd.read_csv('Final_Task6.csv')\n",
    "final_df['First Name'] = final_df.apply(\n",
    "    lambda row: 'Mr. ' + row['First Name'] if row['Gender'] == 'M' else 'Mrs. ' + row['First Name'],\n",
    "    axis=1\n",
    ")\n",
    "final_df.drop(columns=['Gender'], inplace=True)\n",
    "final_df.to_csv('Final_Task7.csv', index=False)\n",
    "print(final_df[['ID', 'First Name', 'Last Name']].head(10))"
   ]
  },
  {
   "cell_type": "markdown",
   "id": "0bea5ea3-d4be-4992-9a38-b0d8e200e66d",
   "metadata": {},
   "source": [
    "Task-8. Promote Designation by 1 if Age is Greater than 29"
   ]
  },
  {
   "cell_type": "code",
   "execution_count": 25,
   "id": "fd894824-7ea6-4659-a782-b35574a151ba",
   "metadata": {},
   "outputs": [
    {
     "name": "stdout",
     "output_type": "stream",
     "text": [
      "      ID  Age  Designation Level\n",
      "0   A001   25                  1\n",
      "3   A002   27                  1\n",
      "5   A003   29                  2\n",
      "8   A004   31                  3\n",
      "11  A005   30                  4\n"
     ]
    }
   ],
   "source": [
    "import pandas as pd\n",
    "\n",
    "final_df = pd.read_csv('Final_Task7.csv')\n",
    "final_df['Designation Level'] = final_df.apply(\n",
    "    lambda row: row['Designation Level'] + 1 if row['Age'] > 29 else row['Designation Level'],\n",
    "    axis=1\n",
    ")\n",
    "final_df.to_csv('Final_Task8.csv', index=False)\n",
    "print(final_df[['ID', 'Age', 'Designation Level']].drop_duplicates().head(10))"
   ]
  },
  {
   "cell_type": "markdown",
   "id": "a5fe4956-90f2-46dd-bc52-ee481e89928a",
   "metadata": {},
   "source": [
    "Task-9. Calculate Total Project Cost"
   ]
  },
  {
   "cell_type": "code",
   "execution_count": 26,
   "id": "67d74dbc-674b-4359-9326-ab178d73dbf4",
   "metadata": {},
   "outputs": [
    {
     "name": "stdout",
     "output_type": "stream",
     "text": [
      "     ID  First Name    Total Cost\n",
      "0  A001    Mr. John  5.063714e+06\n",
      "1  A002  Mrs. Alice  2.680000e+06\n",
      "2  A003     Mr. Tom  5.150000e+06\n",
      "3  A004   Mrs. Nina  9.500000e+06\n",
      "4  A005    Mrs. Amy  3.850500e+06\n"
     ]
    }
   ],
   "source": [
    "import pandas as pd\n",
    "\n",
    "final_df = pd.read_csv('Final_Task8.csv')\n",
    "total_proj_cost = final_df.groupby(['ID', 'First Name'])['Cost'].sum().reset_index()\n",
    "total_proj_cost.rename(columns={'Cost': 'Total Cost'}, inplace=True)\n",
    "total_proj_cost.to_csv('TotalProjCost.csv', index=False)\n",
    "print(total_proj_cost.head())"
   ]
  },
  {
   "cell_type": "code",
   "execution_count": null,
   "id": "b0533f10-950c-4eb3-9c72-40d519c7baeb",
   "metadata": {},
   "outputs": [],
   "source": []
  },
  {
   "cell_type": "markdown",
   "id": "fb0828d4-a57b-48e7-8157-578095741f58",
   "metadata": {},
   "source": [
    "Display Employees whoose City name contains the letter 'o'"
   ]
  },
  {
   "cell_type": "code",
   "execution_count": 27,
   "id": "3fe2f6c9-b825-408f-9ab6-8b4fe8d58c91",
   "metadata": {},
   "outputs": [
    {
     "name": "stdout",
     "output_type": "stream",
     "text": [
      "      ID     City  Age  First Name  Last Name     Project       Cost  \\\n",
      "3   A002   London   27  Mrs. Alice  Luxumberg   Project 2  2000000.0   \n",
      "4   A002   London   27  Mrs. Alice  Luxumberg   Project 6   680000.0   \n",
      "8   A004  Newyork   31   Mrs. Nina      Adgra   Project 4  5500000.0   \n",
      "9   A004  Newyork   31   Mrs. Nina      Adgra  Project 12  1000000.0   \n",
      "10  A004  Newyork   31   Mrs. Nina      Adgra  Project 13  3000000.0   \n",
      "\n",
      "      Status     Bonus  Designation Level  \n",
      "3    Ongoing       0.0                  1  \n",
      "4     Failed       0.0                  1  \n",
      "8    Ongoing       0.0                  3  \n",
      "9    Ongoing       0.0                  3  \n",
      "10  Finished  150000.0                  3  \n"
     ]
    }
   ],
   "source": [
    "import pandas as pd\n",
    "\n",
    "final_df = pd.read_csv('Final_Task8.csv')\n",
    "filtered_df = final_df[final_df['City'].str.contains('o', case=False)]\n",
    "print(filtered_df)\n",
    "filtered_df.to_csv('Employee_City_contains_o.csv', index=False)"
   ]
  },
  {
   "cell_type": "code",
   "execution_count": null,
   "id": "8556dbf7-1899-4f45-84f9-786fdee439a4",
   "metadata": {},
   "outputs": [],
   "source": []
  }
 ],
 "metadata": {
  "kernelspec": {
   "display_name": "Python 3 (ipykernel)",
   "language": "python",
   "name": "python3"
  },
  "language_info": {
   "codemirror_mode": {
    "name": "ipython",
    "version": 3
   },
   "file_extension": ".py",
   "mimetype": "text/x-python",
   "name": "python",
   "nbconvert_exporter": "python",
   "pygments_lexer": "ipython3",
   "version": "3.13.5"
  }
 },
 "nbformat": 4,
 "nbformat_minor": 5
}
